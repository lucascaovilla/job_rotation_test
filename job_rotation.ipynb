{
 "cells": [
  {
   "cell_type": "markdown",
   "id": "bc243c39-3297-4f74-b19f-ed6a5cc1a087",
   "metadata": {
    "id": "d2497f68-e565-4dec-8d5e-ec337e37128e"
   },
   "source": [
    "1) Observe o trecho de código abaixo:\n",
    "int INDICE = 13, SOMA = 0, K = 0;\n",
    "enquanto K < INDICE faça\n",
    "{\n",
    "K = K + 1;\n",
    "SOMA = SOMA + K;\n",
    "}\n",
    "imprimir(SOMA);\n",
    "Ao final do processamento, qual será o valor da variável SOMA?"
   ]
  },
  {
   "cell_type": "code",
   "execution_count": null,
   "id": "3c364b28-2a9b-4b69-817a-9e712a8513b7",
   "metadata": {},
   "outputs": [],
   "source": [
    "soma = 0\n",
    "indice = 13\n",
    "k = 0\n",
    "\n",
    "while k < indice:\n",
    "    k = k + 1\n",
    "    soma = soma+k\n",
    "    \n",
    "    \n",
    "print(soma)"
   ]
  },
  {
   "cell_type": "markdown",
   "id": "00980087-afb3-4b38-b779-eef8b7d6d7fc",
   "metadata": {
    "id": "k0Lsovb5VOKP",
    "tags": []
   },
   "source": [
    "2) Dado a sequência de Fibonacci, onde se inicia por 0 e 1 e o próximo valor sempre será a soma dos 2 valores \n",
    "anteriores (exemplo: 0, 1, 1, 2, 3, 5, 8, 13, 21, 34...), escreva um programa na linguagem que desejar onde, \n",
    "informado um número, ele calcule a sequência de Fibonacci e retorne uma mensagem avisando se o número informado \n",
    "pertence ou não a sequência."
   ]
  },
  {
   "cell_type": "code",
   "execution_count": 2,
   "id": "LxC62c-hRcYv",
   "metadata": {
    "colab": {
     "base_uri": "https://localhost:8080/"
    },
    "id": "LxC62c-hRcYv",
    "outputId": "776df2e5-a2bb-45c0-83cd-22aad65b7ba5"
   },
   "outputs": [
    {
     "name": "stdin",
     "output_type": "stream",
     "text": [
      "Informe o número que deseja verificar: 335\n"
     ]
    },
    {
     "name": "stdout",
     "output_type": "stream",
     "text": [
      "O número 335 não pertence à sequência de fibonacci, conforme lista a seguir [0, 1, 1, 2, 3, 5, 8, 13, 21, 34, 55, 89, 144, 233, 377].\n"
     ]
    }
   ],
   "source": [
    "num = int(input(\"Informe o número que deseja verificar:\"))\n",
    "\n",
    "seq_fib = [0, 1]\n",
    "lenght = len(seq_fib)\n",
    "while num >= seq_fib[lenght-1]:\n",
    "    lenght = len(seq_fib)\n",
    "    next_fib = seq_fib[lenght-1] + seq_fib[lenght-2]\n",
    "    seq_fib.append(next_fib)\n",
    "    if num == next_fib:\n",
    "        print(f\"O número {num} pertence à sequência de fibonacci.\")\n",
    "        break\n",
    "    elif num < next_fib:\n",
    "        print(f\"O número {num} não pertence à sequência de fibonacci, conforme lista a seguir {seq_fib}.\")\n",
    "        break"
   ]
  },
  {
   "cell_type": "markdown",
   "id": "sVwVviQORgWa",
   "metadata": {
    "id": "sVwVviQORgWa",
    "tags": []
   },
   "source": [
    "3) Descubra a lógica e complete o próximo elemento:\n",
    "\n",
    "\n",
    "\n",
    "<br>a) 1, 3, 5, 7, 9\n",
    "<br>Item n com índice i é igual ao item anterior somado a 2: in = n(i-1) + 2\n",
    "<br>\n",
    "\n",
    "<br>b) 2, 4, 8, 16, 32, 64, 128\n",
    "<br>Item n com índice i é igual a 2 elevado ao seu índice (1,2,3,...): n = 2^i 0\n",
    "<br>\n",
    "\n",
    "<br>c) 0, 1, 4, 9, 16, 25, 36, 49\n",
    "<br>Item n com índice i é igual ao seu índice (0,1,2,...) elevado ao quadrado (^2): n = i^2\n",
    "<br>\n",
    "\n",
    "<br>d) 4, 16, 36, 64, 100\n",
    "<br>Item n com índice i é um número par p em sequência elevado ao quadrado: n = p^2 || sendo p > o p anterior\n",
    "<br>\n",
    "\n",
    "<br>e) 1, 1, 2, 3, 5, 8, 13\n",
    "<br>Item n com índice i é igual aos dois itens anteriores somados. Nos dois primeiros seu valor precisa ser dado: n = n(i-1) + n(i-2)\n",
    "<br>\n",
    "\n",
    "<br>f) 2, 10, 12, 16, 17, 18, 19, 200\n",
    "<br>Item n é o próximo número que começa com a letra \"d\": Dois, Dez, Doze, Dezesseis, Dezessete, Dezoito, Dezenove, Duzentos"
   ]
  },
  {
   "cell_type": "markdown",
   "id": "ZSIQ0dQRR5C4",
   "metadata": {
    "id": "ZSIQ0dQRR5C4",
    "tags": []
   },
   "source": [
    "4 - Dois veículos (um carro e um caminhão) saem respectivamente de cidades opostas pela mesma rodovia. O carro de Ribeirão Preto em direção a Franca, a uma velocidade constante de 110 km/h e o caminhão de Franca em direção a Ribeirão Preto a uma velocidade constante de 80 km/h. Quando eles se cruzarem na rodovia, qual estará mais próximo a cidade de Ribeirão Preto?\n",
    "\n",
    "\n",
    "\n",
    "IMPORTANTE:\n",
    "\n",
    "<br>a) Considerar a distância de 100km entre a cidade de Ribeirão Preto <-> Franca.\n",
    "<br>Nenhum, os dois estarão a mesma distância de Ribeirão Preto pois estarão no mesmo lugar em relação à cidade.\n",
    "<br>\n",
    "\n",
    "<br>b) Considerar 2 pedágios como obstáculo e que o caminhão leva 5 minutos a mais para passar em cada um deles e o carro possui tag de pedágio (Sem Parar)\n",
    "<br>Independente da posição dos pedágios, o resultado será o mesmo, ambos estarão à mesma distância da cidade de Ribeirão Preto.\n",
    "<br>\n",
    "\n",
    "<br>c) Explique como chegou no resultado.\n",
    "<br>Uma situação de cruzamento significa que um veículo está passando pelo outro, nesse caso em sentidos opostos. Isso quer dizer que ambos estão no mesmo lugar em relação às cidades, apesar de cada um estar em um lado da pista, portanto, a distância é a mesma."
   ]
  },
  {
   "cell_type": "markdown",
   "id": "G2Jiv47oR_1l",
   "metadata": {
    "id": "G2Jiv47oR_1l"
   },
   "source": [
    "5) Escreva um programa que inverta os caracteres de um string.\n",
    "\n",
    "\n",
    "\n",
    "IMPORTANTE:\n",
    "\n",
    "a) Essa string pode ser informada através de qualquer entrada de sua preferência ou pode ser previamente definida no código;\n",
    "\n",
    "b) Evite usar funções prontas, como, por exemplo, reverse;"
   ]
  },
  {
   "cell_type": "code",
   "execution_count": 17,
   "id": "0f243e35-cd06-4eb6-93c3-c6e687dd9650",
   "metadata": {
    "tags": []
   },
   "outputs": [
    {
     "name": "stdin",
     "output_type": "stream",
     "text": [
      "Informe a string que deseja inverter: abcdef\n"
     ]
    },
    {
     "name": "stdout",
     "output_type": "stream",
     "text": [
      "A string abcdef invertida fica fedcba\n"
     ]
    }
   ],
   "source": [
    "string = input(\"Informe a string que deseja inverter:\")\n",
    "new_string = \"\"\n",
    "\n",
    "for i in range(len(string)):\n",
    "    new_string = string[i] + new_string\n",
    "print(f\"A string {string} invertida fica {new_string}\")\n"
   ]
  }
 ],
 "metadata": {
  "colab": {
   "collapsed_sections": [
    "k0Lsovb5VOKP"
   ],
   "provenance": []
  },
  "kernelspec": {
   "display_name": "Python 3 (ipykernel)",
   "language": "python",
   "name": "python3"
  },
  "language_info": {
   "codemirror_mode": {
    "name": "ipython",
    "version": 3
   },
   "file_extension": ".py",
   "mimetype": "text/x-python",
   "name": "python",
   "nbconvert_exporter": "python",
   "pygments_lexer": "ipython3",
   "version": "3.10.8"
  },
  "widgets": {
   "application/vnd.jupyter.widget-state+json": {
    "state": {},
    "version_major": 2,
    "version_minor": 0
   }
  }
 },
 "nbformat": 4,
 "nbformat_minor": 5
}
